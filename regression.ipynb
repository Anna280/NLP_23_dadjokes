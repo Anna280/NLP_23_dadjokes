{
 "cells": [
  {
   "cell_type": "code",
   "execution_count": 14,
   "metadata": {},
   "outputs": [
    {
     "data": {
      "application/vnd.jupyter.widget-view+json": {
       "model_id": "7252561365b74fa1b825bc0a82e0ae20",
       "version_major": 2,
       "version_minor": 0
      },
      "text/plain": [
       "tokenizer_config.json:   0%|          | 0.00/28.0 [00:00<?, ?B/s]"
      ]
     },
     "metadata": {},
     "output_type": "display_data"
    },
    {
     "data": {
      "application/vnd.jupyter.widget-view+json": {
       "model_id": "be82432eb8da4f4a8bdcf5f9888ae5ed",
       "version_major": 2,
       "version_minor": 0
      },
      "text/plain": [
       "config.json:   0%|          | 0.00/570 [00:00<?, ?B/s]"
      ]
     },
     "metadata": {},
     "output_type": "display_data"
    },
    {
     "data": {
      "application/vnd.jupyter.widget-view+json": {
       "model_id": "d187e4017f1643939a04e9bf6d57201e",
       "version_major": 2,
       "version_minor": 0
      },
      "text/plain": [
       "vocab.txt:   0%|          | 0.00/232k [00:00<?, ?B/s]"
      ]
     },
     "metadata": {},
     "output_type": "display_data"
    },
    {
     "data": {
      "application/vnd.jupyter.widget-view+json": {
       "model_id": "a9e14a4bb8ec4a488e2bd19c48a21083",
       "version_major": 2,
       "version_minor": 0
      },
      "text/plain": [
       "tokenizer.json:   0%|          | 0.00/466k [00:00<?, ?B/s]"
      ]
     },
     "metadata": {},
     "output_type": "display_data"
    },
    {
     "data": {
      "application/vnd.jupyter.widget-view+json": {
       "model_id": "6871b8785a5d492eb27112cdbfa85a63",
       "version_major": 2,
       "version_minor": 0
      },
      "text/plain": [
       "model.safetensors:   0%|          | 0.00/440M [00:00<?, ?B/s]"
      ]
     },
     "metadata": {},
     "output_type": "display_data"
    },
    {
     "name": "stderr",
     "output_type": "stream",
     "text": [
      "Some weights of BertForSequenceClassification were not initialized from the model checkpoint at bert-base-uncased and are newly initialized: ['classifier.weight', 'classifier.bias']\n",
      "You should probably TRAIN this model on a down-stream task to be able to use it for predictions and inference.\n"
     ]
    }
   ],
   "source": [
    "# Below modules require \"pip install transformers[torch]\" in the terminal\n",
    "\n",
    "from transformers import AutoTokenizer, AutoModelForSequenceClassification, DataCollatorWithPadding\n",
    "from torch.utils.data import DataLoader\n",
    "\n",
    "BASE_MODEL = \"bert-base-uncased\"\n",
    "LEARNING_RATE = 2e-5\n",
    "MAX_LENGTH = 350\n",
    "BATCH_SIZE = 16\n",
    "EPOCHS = 10\n",
    "\n",
    "tokenizer = AutoTokenizer.from_pretrained(BASE_MODEL)\n",
    "model = AutoModelForSequenceClassification.from_pretrained(BASE_MODEL, num_labels=1)"
   ]
  },
  {
   "cell_type": "code",
   "execution_count": 15,
   "metadata": {},
   "outputs": [
    {
     "name": "stderr",
     "output_type": "stream",
     "text": [
      "/work/priv/venvs/nlp-e23/lib/python3.9/site-packages/numpy/core/fromnumeric.py:59: FutureWarning: 'DataFrame.swapaxes' is deprecated and will be removed in a future version. Please use 'DataFrame.transpose' instead.\n",
      "  return bound(*args, **kwds)\n"
     ]
    }
   ],
   "source": [
    "### Divide data into train, validation and test \n",
    "import pandas as pd\n",
    "import numpy as np\n",
    "data = pd.read_csv('data/uniform_distribution.csv')\n",
    "data['cat_rating'] = data['cat_rating'].apply(pd.to_numeric)\n",
    "\n",
    "#split data... .7 means 70% train and the .85 means 2x 15% for the validate and test\n",
    "train, validate, test = np.split(data.sample(frac=1), [int(.7*len(data)), int(.85*len(data))])\n",
    "train[\"joke\"] = train[\"joke\"].astype(str)\n",
    "train[\"cat_rating\"] = train[\"cat_rating\"].astype(float) # was float with no quotation marks\n",
    "\n",
    "validate[\"joke\"] = validate[\"joke\"].astype(str)\n",
    "validate[\"cat_rating\"] = validate[\"cat_rating\"].astype(float)\n",
    "\n",
    "test[\"joke\"] = test[\"joke\"].astype(str)\n",
    "test[\"cat_rating\"] = test[\"cat_rating\"].astype(float)"
   ]
  },
  {
   "cell_type": "code",
   "execution_count": 16,
   "metadata": {},
   "outputs": [],
   "source": [
    "from math import isnan\n",
    "\n",
    "def df_to_list_of_dicts(data):\n",
    "    list_of_dicts = []\n",
    "    for i,idx in enumerate(data.index):\n",
    "        dic = {'id' : idx, 'text' : data[\"joke\"][idx], 'score' : data[\"cat_rating\"][idx]}\n",
    "        if not isnan(dic['score']):\n",
    "            list_of_dicts.append(dic)\n",
    "    return list_of_dicts"
   ]
  },
  {
   "cell_type": "code",
   "execution_count": 17,
   "metadata": {},
   "outputs": [],
   "source": [
    "import json\n",
    "train1 = df_to_list_of_dicts(train)\n",
    "with open(\"data/train.jsonlines\", 'w') as f:\n",
    "    for d in train1:\n",
    "        json.dump(d, f)\n",
    "        f.write('\\n')\n",
    "\n",
    "test1 = df_to_list_of_dicts(test)\n",
    "with open(\"data/test.jsonlines\", 'w') as f:\n",
    "    for d in test1:\n",
    "        json.dump(d, f)\n",
    "        f.write('\\n')\n",
    "\n",
    "validate1 = df_to_list_of_dicts(validate)\n",
    "\n",
    "with open(\"data/validate.jsonlines\", 'w') as f:\n",
    "    for d in validate1:\n",
    "        json.dump(d, f)\n",
    "        f.write('\\n')\n"
   ]
  },
  {
   "cell_type": "code",
   "execution_count": 18,
   "metadata": {},
   "outputs": [
    {
     "data": {
      "application/vnd.jupyter.widget-view+json": {
       "model_id": "6ffa7cae89714c33b5c5783028cf434e",
       "version_major": 2,
       "version_minor": 0
      },
      "text/plain": [
       "Downloading data files:   0%|          | 0/1 [00:00<?, ?it/s]"
      ]
     },
     "metadata": {},
     "output_type": "display_data"
    },
    {
     "data": {
      "application/vnd.jupyter.widget-view+json": {
       "model_id": "1d9d44e743f94555bf5c64d0f2fd4911",
       "version_major": 2,
       "version_minor": 0
      },
      "text/plain": [
       "Extracting data files:   0%|          | 0/1 [00:00<?, ?it/s]"
      ]
     },
     "metadata": {},
     "output_type": "display_data"
    },
    {
     "data": {
      "application/vnd.jupyter.widget-view+json": {
       "model_id": "578329b3e0c74c5f9ed019f36c3055e3",
       "version_major": 2,
       "version_minor": 0
      },
      "text/plain": [
       "Generating train split: 0 examples [00:00, ? examples/s]"
      ]
     },
     "metadata": {},
     "output_type": "display_data"
    },
    {
     "data": {
      "application/vnd.jupyter.widget-view+json": {
       "model_id": "fee1a642da8b4b3abbe1b9cc114a0ee3",
       "version_major": 2,
       "version_minor": 0
      },
      "text/plain": [
       "Downloading data files:   0%|          | 0/1 [00:00<?, ?it/s]"
      ]
     },
     "metadata": {},
     "output_type": "display_data"
    },
    {
     "data": {
      "application/vnd.jupyter.widget-view+json": {
       "model_id": "9108b130838b4227879d58b707ffa6bb",
       "version_major": 2,
       "version_minor": 0
      },
      "text/plain": [
       "Extracting data files:   0%|          | 0/1 [00:00<?, ?it/s]"
      ]
     },
     "metadata": {},
     "output_type": "display_data"
    },
    {
     "data": {
      "application/vnd.jupyter.widget-view+json": {
       "model_id": "6c30ac05464d40549cf9ac0d9bdbe0a9",
       "version_major": 2,
       "version_minor": 0
      },
      "text/plain": [
       "Generating train split: 0 examples [00:00, ? examples/s]"
      ]
     },
     "metadata": {},
     "output_type": "display_data"
    },
    {
     "data": {
      "application/vnd.jupyter.widget-view+json": {
       "model_id": "9bdead15841347db997fc1426dc5592f",
       "version_major": 2,
       "version_minor": 0
      },
      "text/plain": [
       "Downloading data files:   0%|          | 0/1 [00:00<?, ?it/s]"
      ]
     },
     "metadata": {},
     "output_type": "display_data"
    },
    {
     "data": {
      "application/vnd.jupyter.widget-view+json": {
       "model_id": "9924bce2479146248b65f3d7b4032d34",
       "version_major": 2,
       "version_minor": 0
      },
      "text/plain": [
       "Extracting data files:   0%|          | 0/1 [00:00<?, ?it/s]"
      ]
     },
     "metadata": {},
     "output_type": "display_data"
    },
    {
     "data": {
      "application/vnd.jupyter.widget-view+json": {
       "model_id": "62282287cde0432083a34c5c6abb12cb",
       "version_major": 2,
       "version_minor": 0
      },
      "text/plain": [
       "Generating train split: 0 examples [00:00, ? examples/s]"
      ]
     },
     "metadata": {},
     "output_type": "display_data"
    },
    {
     "data": {
      "text/plain": [
       "(Dataset({\n",
       "     features: ['id', 'text', 'score'],\n",
       "     num_rows: 20924\n",
       " }),\n",
       " Dataset({\n",
       "     features: ['id', 'text', 'score'],\n",
       "     num_rows: 4487\n",
       " }),\n",
       " Dataset({\n",
       "     features: ['id', 'text', 'score'],\n",
       "     num_rows: 4483\n",
       " }))"
      ]
     },
     "execution_count": 18,
     "metadata": {},
     "output_type": "execute_result"
    }
   ],
   "source": [
    "\n",
    "from datasets import Dataset\n",
    "# if issues\n",
    "raw_train_ds = Dataset.from_json(\"data/train.jsonlines\")\n",
    "raw_test_ds = Dataset.from_json(\"data/test.jsonlines\")\n",
    "raw_val_ds = Dataset.from_json(\"data/validate.jsonlines\")\n",
    "\n",
    "# This line prints the description of train_ds\n",
    "raw_train_ds, raw_test_ds,raw_val_ds"
   ]
  },
  {
   "cell_type": "code",
   "execution_count": 19,
   "metadata": {},
   "outputs": [
    {
     "data": {
      "application/vnd.jupyter.widget-view+json": {
       "model_id": "911b3d5f86d04c7abd548b1e855d266f",
       "version_major": 2,
       "version_minor": 0
      },
      "text/plain": [
       "Map:   0%|          | 0/20924 [00:00<?, ? examples/s]"
      ]
     },
     "metadata": {},
     "output_type": "display_data"
    },
    {
     "data": {
      "application/vnd.jupyter.widget-view+json": {
       "model_id": "0796bad7b85b40479a815de699e9bd14",
       "version_major": 2,
       "version_minor": 0
      },
      "text/plain": [
       "Map:   0%|          | 0/4483 [00:00<?, ? examples/s]"
      ]
     },
     "metadata": {},
     "output_type": "display_data"
    },
    {
     "data": {
      "application/vnd.jupyter.widget-view+json": {
       "model_id": "7b624846dc854da9a5b26e31e4e2c5d7",
       "version_major": 2,
       "version_minor": 0
      },
      "text/plain": [
       "Map:   0%|          | 0/4487 [00:00<?, ? examples/s]"
      ]
     },
     "metadata": {},
     "output_type": "display_data"
    }
   ],
   "source": [
    "ds = {\"train\": raw_train_ds, \"validation\": raw_val_ds, \"test\": raw_test_ds}\n",
    "\n",
    "def preprocess_function(examples):\n",
    "    label = examples[\"score\"] \n",
    "    examples = tokenizer(examples[\"text\"], truncation=True, padding=\"max_length\", max_length=350)\n",
    "    examples[\"label\"] = label\n",
    "    return examples\n",
    "\n",
    "for split in ds:\n",
    "    ds[split] = ds[split].map(preprocess_function, remove_columns=[\"id\",\"text\", \"score\"])\n"
   ]
  },
  {
   "cell_type": "code",
   "execution_count": 20,
   "metadata": {},
   "outputs": [],
   "source": [
    "from sklearn.metrics import mean_absolute_error\n",
    "from sklearn.metrics import mean_squared_error\n",
    "from sklearn.metrics import r2_score\n",
    "\n",
    "def compute_metrics_for_regression(eval_pred):\n",
    "    logits, labels = eval_pred\n",
    "    labels = labels.reshape(-1, 1)\n",
    "    \n",
    "    mse = mean_squared_error(labels, logits)\n",
    "    mae = mean_absolute_error(labels, logits)\n",
    "    r2 = r2_score(labels, logits)\n",
    "    single_squared_errors = ((logits - labels).flatten()**2).tolist()\n",
    "    \n",
    "    # Compute accuracy \n",
    "    # Based on the fact that the rounded score = true score only if |single_squared_errors| < 0.5\n",
    "    accuracy = sum([1 for e in single_squared_errors if e < 0.25]) / len(single_squared_errors)\n",
    "    \n",
    "    return {\"mse\": mse, \"mae\": mae, \"r2\": r2, \"accuracy\": accuracy}\n",
    "\n",
    "from transformers import TrainingArguments, Trainer\n",
    "\n",
    "training_args = TrainingArguments(\n",
    "    output_dir=\"models/bert-fine-tuned-regression-2\",\n",
    "    learning_rate=LEARNING_RATE,\n",
    "    per_device_train_batch_size=BATCH_SIZE,\n",
    "    per_device_eval_batch_size=BATCH_SIZE,\n",
    "    num_train_epochs=EPOCHS,\n",
    "    evaluation_strategy=\"epoch\",\n",
    "    save_strategy=\"epoch\",\n",
    "    save_total_limit=2,\n",
    "    metric_for_best_model=\"accuracy\",\n",
    "    load_best_model_at_end=True,\n",
    "    weight_decay=0.01,\n",
    ")"
   ]
  },
  {
   "cell_type": "code",
   "execution_count": 21,
   "metadata": {},
   "outputs": [],
   "source": [
    "import torch\n",
    "\n",
    "class RegressionTrainer(Trainer):\n",
    "    def compute_loss(self, model, inputs, return_outputs=False):\n",
    "        labels = inputs.pop(\"labels\")\n",
    "        outputs = model(**inputs)\n",
    "        logits = outputs[0][:, 0]\n",
    "        loss = torch.nn.functional.mse_loss(logits, labels)\n",
    "        return (loss, outputs) if return_outputs else loss"
   ]
  },
  {
   "cell_type": "code",
   "execution_count": 10,
   "metadata": {},
   "outputs": [
    {
     "name": "stderr",
     "output_type": "stream",
     "text": [
      "Detected kernel version 5.4.256, which is below the recommended minimum of 5.5.0; this can cause the process to hang. It is recommended to upgrade the kernel to the minimum version or higher.\n"
     ]
    },
    {
     "data": {
      "text/html": [
       "\n",
       "    <div>\n",
       "      \n",
       "      <progress value='13080' max='13080' style='width:300px; height:20px; vertical-align: middle;'></progress>\n",
       "      [13080/13080 12:26:20, Epoch 10/10]\n",
       "    </div>\n",
       "    <table border=\"1\" class=\"dataframe\">\n",
       "  <thead>\n",
       " <tr style=\"text-align: left;\">\n",
       "      <th>Epoch</th>\n",
       "      <th>Training Loss</th>\n",
       "      <th>Validation Loss</th>\n",
       "      <th>Mse</th>\n",
       "      <th>Mae</th>\n",
       "      <th>R2</th>\n",
       "      <th>Accuracy</th>\n",
       "    </tr>\n",
       "  </thead>\n",
       "  <tbody>\n",
       "    <tr>\n",
       "      <td>1</td>\n",
       "      <td>33.610300</td>\n",
       "      <td>33.135666</td>\n",
       "      <td>33.135670</td>\n",
       "      <td>4.975916</td>\n",
       "      <td>-0.004718</td>\n",
       "      <td>0.047269</td>\n",
       "    </tr>\n",
       "    <tr>\n",
       "      <td>2</td>\n",
       "      <td>32.017800</td>\n",
       "      <td>33.040100</td>\n",
       "      <td>33.040100</td>\n",
       "      <td>4.964679</td>\n",
       "      <td>-0.001820</td>\n",
       "      <td>0.048161</td>\n",
       "    </tr>\n",
       "    <tr>\n",
       "      <td>3</td>\n",
       "      <td>25.142000</td>\n",
       "      <td>35.843742</td>\n",
       "      <td>35.843742</td>\n",
       "      <td>5.082771</td>\n",
       "      <td>-0.086831</td>\n",
       "      <td>0.045931</td>\n",
       "    </tr>\n",
       "    <tr>\n",
       "      <td>4</td>\n",
       "      <td>16.783500</td>\n",
       "      <td>41.685429</td>\n",
       "      <td>41.685429</td>\n",
       "      <td>5.357954</td>\n",
       "      <td>-0.263958</td>\n",
       "      <td>0.052174</td>\n",
       "    </tr>\n",
       "    <tr>\n",
       "      <td>5</td>\n",
       "      <td>11.574700</td>\n",
       "      <td>42.079067</td>\n",
       "      <td>42.079067</td>\n",
       "      <td>5.376893</td>\n",
       "      <td>-0.275894</td>\n",
       "      <td>0.054181</td>\n",
       "    </tr>\n",
       "    <tr>\n",
       "      <td>6</td>\n",
       "      <td>8.669700</td>\n",
       "      <td>44.994751</td>\n",
       "      <td>44.994751</td>\n",
       "      <td>5.522403</td>\n",
       "      <td>-0.364302</td>\n",
       "      <td>0.049944</td>\n",
       "    </tr>\n",
       "    <tr>\n",
       "      <td>7</td>\n",
       "      <td>6.754000</td>\n",
       "      <td>45.571804</td>\n",
       "      <td>45.571804</td>\n",
       "      <td>5.561397</td>\n",
       "      <td>-0.381799</td>\n",
       "      <td>0.049052</td>\n",
       "    </tr>\n",
       "    <tr>\n",
       "      <td>8</td>\n",
       "      <td>5.373100</td>\n",
       "      <td>45.832886</td>\n",
       "      <td>45.832886</td>\n",
       "      <td>5.569749</td>\n",
       "      <td>-0.389715</td>\n",
       "      <td>0.053512</td>\n",
       "    </tr>\n",
       "    <tr>\n",
       "      <td>9</td>\n",
       "      <td>4.478700</td>\n",
       "      <td>44.709496</td>\n",
       "      <td>44.709496</td>\n",
       "      <td>5.524681</td>\n",
       "      <td>-0.355652</td>\n",
       "      <td>0.048384</td>\n",
       "    </tr>\n",
       "    <tr>\n",
       "      <td>10</td>\n",
       "      <td>4.045100</td>\n",
       "      <td>44.755291</td>\n",
       "      <td>44.755291</td>\n",
       "      <td>5.526838</td>\n",
       "      <td>-0.357041</td>\n",
       "      <td>0.046600</td>\n",
       "    </tr>\n",
       "  </tbody>\n",
       "</table><p>"
      ],
      "text/plain": [
       "<IPython.core.display.HTML object>"
      ]
     },
     "metadata": {},
     "output_type": "display_data"
    },
    {
     "data": {
      "text/plain": [
       "TrainOutput(global_step=13080, training_loss=15.184996093376697, metrics={'train_runtime': 44784.4033, 'train_samples_per_second': 4.673, 'train_steps_per_second': 0.292, 'total_flos': 3.7637390202006e+16, 'train_loss': 15.184996093376697, 'epoch': 10.0})"
      ]
     },
     "execution_count": 10,
     "metadata": {},
     "output_type": "execute_result"
    }
   ],
   "source": [
    "\n",
    "trainer = RegressionTrainer(\n",
    "    model=model,\n",
    "    args=training_args,\n",
    "    train_dataset=ds[\"train\"],\n",
    "    eval_dataset=ds[\"validation\"],\n",
    "    compute_metrics=compute_metrics_for_regression,\n",
    ")\n",
    "\n",
    "trainer.train()"
   ]
  },
  {
   "cell_type": "markdown",
   "metadata": {},
   "source": [
    "# Evaluation on test set\n"
   ]
  },
  {
   "cell_type": "code",
   "execution_count": 11,
   "metadata": {},
   "outputs": [
    {
     "data": {
      "text/html": [
       "\n",
       "    <div>\n",
       "      \n",
       "      <progress value='281' max='281' style='width:300px; height:20px; vertical-align: middle;'></progress>\n",
       "      [281/281 04:14]\n",
       "    </div>\n",
       "    "
      ],
      "text/plain": [
       "<IPython.core.display.HTML object>"
      ]
     },
     "metadata": {},
     "output_type": "display_data"
    },
    {
     "data": {
      "text/plain": [
       "{'eval_loss': 42.20734405517578,\n",
       " 'eval_mse': 42.20734405517578,\n",
       " 'eval_mae': 5.333274841308594,\n",
       " 'eval_r2': -0.26442046005759967,\n",
       " 'eval_accuracy': 0.05375864376533571,\n",
       " 'eval_runtime': 255.8269,\n",
       " 'eval_samples_per_second': 17.524,\n",
       " 'eval_steps_per_second': 1.098,\n",
       " 'epoch': 10.0}"
      ]
     },
     "execution_count": 11,
     "metadata": {},
     "output_type": "execute_result"
    }
   ],
   "source": [
    "trainer.eval_dataset=ds[\"test\"]\n",
    "trainer.evaluate()"
   ]
  },
  {
   "cell_type": "code",
   "execution_count": 27,
   "metadata": {},
   "outputs": [
    {
     "name": "stderr",
     "output_type": "stream",
     "text": [
      "Detected kernel version 5.4.228, which is below the recommended minimum of 5.5.0; this can cause the process to hang. It is recommended to upgrade the kernel to the minimum version or higher.\n"
     ]
    }
   ],
   "source": [
    "# check if we can load the saved model:\n",
    "\n",
    "tuned_model = AutoModelForSequenceClassification.from_pretrained(\"models/bert-fine-tuned-regression-2/checkpoint-13080\", num_labels=1)\n",
    "\n",
    "trainer = RegressionTrainer(\n",
    "    model=tuned_model,\n",
    "    args=training_args,\n",
    "    train_dataset=ds[\"train\"],\n",
    "    eval_dataset=ds[\"validation\"],\n",
    "    test_dataset=ds[\"test_human\"]\n",
    "    compute_metrics=compute_metrics_for_regression,\n",
    ")"
   ]
  },
  {
   "cell_type": "markdown",
   "metadata": {},
   "source": [
    "# Evaluation on data from human raters"
   ]
  },
  {
   "cell_type": "code",
   "execution_count": 23,
   "metadata": {},
   "outputs": [],
   "source": [
    "#load the csv logfiles and generate scores based on the comparisons\n",
    "import pandas as pd\n",
    "import os\n",
    "\n",
    "logfilenames =  [f for f in os.listdir('logfiles')]\n",
    "\n",
    "\n",
    "dataframes = []\n",
    "for filename in logfilenames:\n",
    "    df = pd.read_csv(\"logfiles/\" + filename)\n",
    "    dataframes.append(df)\n",
    "\n",
    "human_data = pd.concat(dataframes)\n",
    "\n",
    "human_data = human_data.astype({\"joke_left\" : \"string\", \"joke_right\": \"string\", \"choice\": \"string\"})\n",
    "\n",
    "human_data[\"row_index\"] = [i for i in range(len(human_data))]\n",
    "\n",
    "human_data = human_data.set_index(\"row_index\")\n",
    "\n",
    "\n",
    "# This file contains the jokes and the joke IDs. We will use these for generating scores from the logfiles\n",
    "new_jokes = pd.read_csv(\"new_jokes.csv\")\n",
    "\n",
    "\n",
    "# Now, generate the scores\n",
    "\n",
    "new_jokes[\"cat_rating\"] = [0 for i in range(len(new_jokes[\"joke\"]))] # we call it cat_rating again, so it works with the previous code\n",
    "\n",
    "for i in range(len(human_data)):\n",
    "    if human_data[\"choice\"][i] == \"L\":\n",
    "        winner = human_data[\"joke_left\"][i]\n",
    "    else:\n",
    "        winner = human_data[\"joke_right\"][i]\n",
    "    new_jokes.loc[new_jokes[\"joke_id\"] == winner, \"cat_rating\"] += 1\n",
    "\n",
    "new_jokes = new_jokes.astype({\"cat_rating\" : \"float\"})\n"
   ]
  },
  {
   "cell_type": "code",
   "execution_count": 25,
   "metadata": {},
   "outputs": [
    {
     "data": {
      "application/vnd.jupyter.widget-view+json": {
       "model_id": "a57cbf6581114adbbb4f863e9d6e5d2b",
       "version_major": 2,
       "version_minor": 0
      },
      "text/plain": [
       "Downloading data files:   0%|          | 0/1 [00:00<?, ?it/s]"
      ]
     },
     "metadata": {},
     "output_type": "display_data"
    },
    {
     "data": {
      "application/vnd.jupyter.widget-view+json": {
       "model_id": "110714151cfd45038780654540ce920f",
       "version_major": 2,
       "version_minor": 0
      },
      "text/plain": [
       "Extracting data files:   0%|          | 0/1 [00:00<?, ?it/s]"
      ]
     },
     "metadata": {},
     "output_type": "display_data"
    },
    {
     "data": {
      "application/vnd.jupyter.widget-view+json": {
       "model_id": "6d34c22a5b044229bc57de4f496f0e3a",
       "version_major": 2,
       "version_minor": 0
      },
      "text/plain": [
       "Generating train split: 0 examples [00:00, ? examples/s]"
      ]
     },
     "metadata": {},
     "output_type": "display_data"
    },
    {
     "data": {
      "application/vnd.jupyter.widget-view+json": {
       "model_id": "b2b67cd1ecba4d5387ae6f2786acc73f",
       "version_major": 2,
       "version_minor": 0
      },
      "text/plain": [
       "Map:   0%|          | 0/30 [00:00<?, ? examples/s]"
      ]
     },
     "metadata": {},
     "output_type": "display_data"
    }
   ],
   "source": [
    "# Turn the data into something our fine-tuned BERT can take as input and evaluate\n",
    "\n",
    "test_human1 = df_to_list_of_dicts(new_jokes)\n",
    "with open(\"data/test_human.jsonlines\", 'w') as f:\n",
    "    for d in test_human1:\n",
    "        json.dump(d, f)\n",
    "        f.write('\\n')\n",
    "\n",
    "raw_test_human_ds = Dataset.from_json(\"data/test_human.jsonlines\")\n",
    "\n",
    "ds[\"test_human\"] = raw_test_human_ds\n",
    "\n",
    "ds[\"test_human\"] = ds[\"test_human\"].map(preprocess_function, remove_columns=[\"id\",\"text\", \"score\"])\n"
   ]
  },
  {
   "cell_type": "code",
   "execution_count": 33,
   "metadata": {},
   "outputs": [
    {
     "data": {
      "text/html": [],
      "text/plain": [
       "<IPython.core.display.HTML object>"
      ]
     },
     "metadata": {},
     "output_type": "display_data"
    },
    {
     "name": "stdout",
     "output_type": "stream",
     "text": [
      "PredictionOutput(predictions=array([[13.684747 ],\n",
      "       [ 3.2426322],\n",
      "       [16.493856 ],\n",
      "       [15.447756 ],\n",
      "       [17.774357 ],\n",
      "       [ 9.248093 ],\n",
      "       [ 7.7793045],\n",
      "       [16.505943 ],\n",
      "       [18.154163 ],\n",
      "       [17.515574 ],\n",
      "       [18.089407 ],\n",
      "       [14.337882 ],\n",
      "       [11.832642 ],\n",
      "       [ 4.474116 ],\n",
      "       [ 9.788297 ],\n",
      "       [ 4.3581734],\n",
      "       [ 5.4911184],\n",
      "       [ 6.3354754],\n",
      "       [12.832766 ],\n",
      "       [ 9.800655 ],\n",
      "       [ 4.6608477],\n",
      "       [ 6.6413302],\n",
      "       [ 3.6570697],\n",
      "       [15.219198 ],\n",
      "       [14.2778425],\n",
      "       [11.096803 ],\n",
      "       [ 9.535492 ],\n",
      "       [14.07819  ],\n",
      "       [17.905807 ],\n",
      "       [15.565894 ]], dtype=float32), label_ids=array([ 7.,  6.,  8., 12., 11.,  5., 11., 11.,  6., 10., 14.,  8.,  8.,\n",
      "        5.,  3.,  8.,  8., 10., 13.,  6., 12., 11., 10., 11., 11., 12.,\n",
      "        7.,  7., 10.,  9.], dtype=float32), metrics={'test_loss': 30.50503921508789, 'test_mse': 30.505035400390625, 'test_mae': 4.889538764953613, 'test_r2': -3.3997650690412575, 'test_accuracy': 0.03333333333333333, 'test_runtime': 18.7947, 'test_samples_per_second': 1.596, 'test_steps_per_second': 0.106})\n"
     ]
    }
   ],
   "source": [
    "# Evaluate and create model predictions\n",
    "#trainer.eval_dataset=ds[\"test_human\"]\n",
    "predictions = trainer.predict(ds[\"test_human\"])\n",
    "\n",
    "#print(predictions)\n"
   ]
  },
  {
   "cell_type": "code",
   "execution_count": 50,
   "metadata": {},
   "outputs": [
    {
     "name": "stdout",
     "output_type": "stream",
     "text": [
      "{'test_loss': 30.50503921508789, 'test_mse': 30.505035400390625, 'test_mae': 4.889538764953613, 'test_r2': -3.3997650690412575, 'test_accuracy': 0.03333333333333333, 'test_runtime': 18.7947, 'test_samples_per_second': 1.596, 'test_steps_per_second': 0.106}\n"
     ]
    }
   ],
   "source": [
    "#np.save(\"predictions.txt\", predictions)\n",
    "\n",
    "# Print the metrics computed by predict()\n",
    "print(predictions[2])"
   ]
  },
  {
   "cell_type": "code",
   "execution_count": 46,
   "metadata": {},
   "outputs": [
    {
     "data": {
      "image/png": "[encoded data removed]",
      "text/plain": [
       "<Figure size 640x480 with 1 Axes>"
      ]
     },
     "metadata": {},
     "output_type": "display_data"
    }
   ],
   "source": [
    "# Visualize the predicted ratings as function of true ratings\n",
    "import matplotlib.pyplot as plt\n",
    "\n",
    "plt.figure()\n",
    "plt.plot(predictions[1], predictions[0], \"o\")\n",
    "plt.xlabel(\"True rating\")\n",
    "plt.ylabel(\"Predicted rating\")\n",
    "plt.title(\"Model-predicted ratings as function of true ratings\")\n",
    "plt.show()"
   ]
  }
 ],
 "metadata": {
  "kernelspec": {
   "display_name": "nlp-e23",
   "language": "python",
   "name": "nlp-e23"
  },
  "language_info": {
   "codemirror_mode": {
    "name": "ipython",
    "version": 3
   },
   "file_extension": ".py",
   "mimetype": "text/x-python",
   "name": "python",
   "nbconvert_exporter": "python",
   "pygments_lexer": "ipython3",
   "version": "3.9.2"
  },
  "orig_nbformat": 4
 },
 "nbformat": 4,
 "nbformat_minor": 2
}
